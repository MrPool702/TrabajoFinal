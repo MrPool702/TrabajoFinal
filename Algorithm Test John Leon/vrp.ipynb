{
 "cells": [
  {
   "cell_type": "markdown",
   "metadata": {},
   "source": [
    "# Trabajo Final"
   ]
  },
  {
   "cell_type": "markdown",
   "metadata": {},
   "source": [
    "## Clase punto y funciones de lectura"
   ]
  },
  {
   "cell_type": "code",
   "execution_count": 5,
   "metadata": {},
   "outputs": [],
   "source": [
    "class Point:\n",
    "    def __init__(self,x,y,types,ide) -> None:\n",
    "        self.x = x\n",
    "        self.y = y\n",
    "        self.type = types\n",
    "        self.id = ide\n",
    "    def getID(self):\n",
    "        return self.id\n",
    "    def setID(self,ide):\n",
    "        self.id = ide\n",
    "    def getX(self):\n",
    "        return self.x\n",
    "    def getY(self):\n",
    "        return self.y\n",
    "    def getType(self):\n",
    "        return self.type\n",
    "\n",
    "def readNodes():\n",
    "    with open(\"nodes.csv\") as file:\n",
    "        lines = file.readlines()\n",
    "        arr = []\n",
    "        for l in lines:\n",
    "            lista = l.strip().split(sep=\",\")\n",
    "            arr.append(Point(int(lista[0]),int(lista[1]),lista[2],int(lista[3])))\n",
    "    return arr\n",
    "\n",
    "def readPuntosEntrega():\n",
    "    arr=[[]for _ in range(14)]\n",
    "    e=[[]for _ in range(14)]\n",
    "    with open(\"John.txt\") as file:\n",
    "        lines = file.readlines()\n",
    "        ide=0\n",
    "        for l in lines:\n",
    "            lista = (l.strip().split(\" ,\"))\n",
    "            arr[ide]=lista\n",
    "            ide+=1\n",
    "    ide=0\n",
    "    for i in range(len(arr)):\n",
    "        for j in range(len(arr[i])):\n",
    "            e[i].append(int(arr[i][j]))\n",
    "    return e\n",
    "\n",
    "def createGrah(n):\n",
    "    g=[[] for _ in range(len(n))]\n",
    "    for i in range(len(n)):\n",
    "        for j in range(len(n)):\n",
    "            if i != j:\n",
    "                if n[j].getY() == n[i].getY() or n[j].getX() == n[i].getX():\n",
    "                    distancia = ((n[j].getY()-n[i].getY())**2 + (n[j].getX()-n[i].getX())**2)**(1/2)\n",
    "                    if distancia <= 20:\n",
    "                        g[i].append((j,round(distancia)))\n",
    "    return g"
   ]
  },
  {
   "cell_type": "markdown",
   "metadata": {},
   "source": [
    "## Cargando los puntos de partida (Almacenes), puntos de llegada (Puntos de Entrega) y grafo"
   ]
  },
  {
   "cell_type": "code",
   "execution_count": 6,
   "metadata": {},
   "outputs": [],
   "source": [
    "Entregas=readPuntosEntrega()\n",
    "Almacenes=[2256,2318,2459,2474,2569,2736,2742,2765,2854,2997,3022,3041,3160,3211]\n",
    "nodos = readNodes()\n",
    "grafo = createGrah(nodos)"
   ]
  },
  {
   "cell_type": "markdown",
   "metadata": {},
   "source": [
    "## Funciones de Comparacíon para el algortimo"
   ]
  },
  {
   "cell_type": "code",
   "execution_count": 7,
   "metadata": {},
   "outputs": [],
   "source": [
    "def distance(a,b):\n",
    "    return abs(((nodos[a].getY()-nodos[b].getY())**2 + (nodos[a].getX()-nodos[b].getX())**2)*0.5)\n",
    "\n",
    "def IsNear(a,b):\n",
    "    if distance(a,b) <= 20 and nodos[a].getY() == nodos[b].getY() or nodos[a].getX() == nodos[b].getX():\n",
    "        return True\n",
    "    else:\n",
    "        return False\n",
    "\n",
    "def compare(x,a,b):\n",
    "    if distance(x,a)<=distance(x,b):\n",
    "        return True\n",
    "    else:\n",
    "        return False\n",
    "\n",
    "def toFinish(l,n):\n",
    "    for x in l:\n",
    "        if n == x[0]:\n",
    "            return True\n",
    "        else:\n",
    "            continue\n",
    "    return False\n"
   ]
  },
  {
   "cell_type": "markdown",
   "metadata": {},
   "source": [
    "## Algoritmo VRP"
   ]
  },
  {
   "cell_type": "markdown",
   "metadata": {},
   "source": [
    "### Version 1"
   ]
  },
  {
   "cell_type": "code",
   "execution_count": 55,
   "metadata": {},
   "outputs": [],
   "source": [
    "def VRP1(nodes, start, end, costPer):\n",
    "    n=len(nodes)\n",
    "    interation=0\n",
    "    comparable=[]\n",
    "    way=[start]\n",
    "    if start==end:\n",
    "        return way,interation*costPer\n",
    "    if IsNear(start,end):\n",
    "        interation+=1\n",
    "        return way,interation*costPer\n",
    "    while way[-1]!=end:\n",
    "        for i in range(len(nodos)):\n",
    "            if i!=start and i!=end:\n",
    "                if IsNear(way[-1],i):\n",
    "                    comparable.append(i)\n",
    "                    if len(comparable)==2:\n",
    "                        if compare(way[-1],comparable[0],comparable[1])==comparable[0]:\n",
    "                            comparable.pop(1)\n",
    "                        else:\n",
    "                            comparable.pop(0)\n",
    "                        way.append(comparable[0])\n",
    "                        interation+=1\n",
    "    return way, interation*costPer"
   ]
  },
  {
   "cell_type": "markdown",
   "metadata": {},
   "source": [
    "### Version 2"
   ]
  },
  {
   "cell_type": "code",
   "execution_count": 26,
   "metadata": {},
   "outputs": [],
   "source": [
    "def VRP2(start, end):\n",
    "    way = list().clear()\n",
    "    way = [start]\n",
    "    cost = 0\n",
    "    nonway = list()\n",
    "    while way[-1] != end:\n",
    "        p = grafo[way[-1]]\n",
    "        if toFinish(p,end):\n",
    "            way.append(end)\n",
    "        else:\n",
    "            for _ in range(len(p)):\n",
    "                minid = max(p,key=lambda x:x[1])[0]\n",
    "                min = max(p,key=lambda x:x[1])[1]\n",
    "                if way == []:\n",
    "                    return 0,str(\"No se pudo calcular una ruta optima\")\n",
    "                for x in p:\n",
    "                    if x[1] <= min and x[0] not in way and x[0] not in nonway:\n",
    "                        minid = x[0]\n",
    "                        min = x[1]\n",
    "                if compare(end,minid,way[-1]):\n",
    "                    way.append(minid)\n",
    "                    break\n",
    "                for x in p:\n",
    "                    if x[0] in nonway:\n",
    "                        if way != []:\n",
    "                            nonway.append(way[-1])\n",
    "                            way.pop(-1)\n",
    "                        else: \n",
    "                            return 0,str(\"No se pudo calcular una ruta optima\")\n",
    "                else:\n",
    "                    nonway.append(minid)\n",
    "                    continue\n",
    "    for i in range(len(way)-1):\n",
    "        for j in grafo[way[i]]:\n",
    "            if j[0] == way[i+1]:\n",
    "                cost += j[1]\n",
    "    \n",
    "    return way, cost\n"
   ]
  },
  {
   "cell_type": "markdown",
   "metadata": {},
   "source": [
    "## Testeo de Algortimo"
   ]
  },
  {
   "cell_type": "code",
   "execution_count": null,
   "metadata": {},
   "outputs": [],
   "source": [
    "with open(\"salida.txt\", \"w\") as f:\n",
    "    for inicio in Almacenes:\n",
    "        for _f in Entregas:\n",
    "            for final in _f:\n",
    "                way, cost = VRP2(inicio, final)\n",
    "                if type(way) == 0:\n",
    "                    f.write(str(cost) + \"\\n\")\n",
    "                else:\n",
    "                    f.write(str(\"Ruta: \" + str(way) + \"\\n Costo: \"+ str(cost)+ \"\\n\"))\n",
    "    "
   ]
  }
 ],
 "metadata": {
  "interpreter": {
   "hash": "b89b5cfaba6639976dc87ff2fec6d58faec662063367e2c229c520fe71072417"
  },
  "kernelspec": {
   "display_name": "Python 3.10.0 64-bit",
   "language": "python",
   "name": "python3"
  },
  "language_info": {
   "codemirror_mode": {
    "name": "ipython",
    "version": 3
   },
   "file_extension": ".py",
   "mimetype": "text/x-python",
   "name": "python",
   "nbconvert_exporter": "python",
   "pygments_lexer": "ipython3",
   "version": "3.10.0"
  },
  "orig_nbformat": 4
 },
 "nbformat": 4,
 "nbformat_minor": 2
}
